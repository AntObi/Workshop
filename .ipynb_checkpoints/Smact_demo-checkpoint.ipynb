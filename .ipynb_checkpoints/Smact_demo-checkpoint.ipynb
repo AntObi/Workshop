{
 "cells": [
  {
   "cell_type": "markdown",
   "metadata": {
    "slideshow": {
     "slide_type": "slide"
    }
   },
   "source": [
    "# Intro to SMACT\n",
    " by Anthony Onwuli"
   ]
  },
  {
   "cell_type": "markdown",
   "metadata": {
    "slideshow": {
     "slide_type": "subslide"
    }
   },
   "source": [
    "**Semiconducting Materials from Analogy and Chemical Theory** (SMACT) is a one of our python packages which relies on information about the chemical elements and their various species to develop and implement a range of screening functions.\n"
   ]
  },
  {
   "cell_type": "markdown",
   "metadata": {
    "slideshow": {
     "slide_type": "subslide"
    }
   },
   "source": [
    "## Motivation for the package\n",
    "\n",
    "\n",
    "* Materials discovery relies on the need to go beyond our knowledge of existing materials. \n",
    "* The known materials only make up a tiny part of the search space of new materials.\n",
    "\n",
    "* smact can be used to generate elemental combinations which are then screened using filters"
   ]
  },
  {
   "cell_type": "markdown",
   "metadata": {
    "slideshow": {
     "slide_type": "slide"
    }
   },
   "source": [
    "## The core of SMACT - the element and species classes"
   ]
  },
  {
   "cell_type": "markdown",
   "metadata": {
    "slideshow": {
     "slide_type": "subslide"
    }
   },
   "source": [
    "For demo purposes we will show of the element and species classes."
   ]
  },
  {
   "cell_type": "code",
   "execution_count": 1,
   "metadata": {
    "slideshow": {
     "slide_type": "skip"
    }
   },
   "outputs": [],
   "source": [
    "### Imports\n",
    "import smact\n",
    "from smact import Element, Species, element_dictionary, ordered_elements, neutral_ratios\n",
    "from smact.screening import smact_filter, pauling_test\n",
    "from datetime import datetime\n",
    "import itertools\n",
    "import multiprocessing\n",
    "import pandas as pd\n",
    "from matminer.featurizers.conversions import StrToComposition\n",
    "from matminer.featurizers.base import MultipleFeaturizer\n",
    "from matminer.featurizers import composition as cf\n",
    "from matminer.featurizers import composition as cf\n",
    "from matminer.featurizers.base import MultipleFeaturizer"
   ]
  },
  {
   "cell_type": "markdown",
   "metadata": {
    "slideshow": {
     "slide_type": "subslide"
    }
   },
   "source": [
    "Let's consider iron (Fe)."
   ]
  },
  {
   "cell_type": "code",
   "execution_count": 2,
   "metadata": {
    "slideshow": {
     "slide_type": "subslide"
    }
   },
   "outputs": [],
   "source": [
    "Fe=smact.Element(\"Fe\")"
   ]
  },
  {
   "cell_type": "markdown",
   "metadata": {
    "slideshow": {
     "slide_type": "subslide"
    }
   },
   "source": [
    "Using smact we can check what oxidation states are accessible to a particular atom."
   ]
  },
  {
   "cell_type": "code",
   "execution_count": 3,
   "metadata": {
    "slideshow": {
     "slide_type": "subslide"
    }
   },
   "outputs": [
    {
     "data": {
      "text/plain": [
       "[-2, -1, 1, 2, 3, 4, 5, 6]"
      ]
     },
     "execution_count": 3,
     "metadata": {},
     "output_type": "execute_result"
    }
   ],
   "source": [
    "Fe.oxidation_states"
   ]
  },
  {
   "cell_type": "markdown",
   "metadata": {
    "slideshow": {
     "slide_type": "subslide"
    }
   },
   "source": [
    "The default oxidation states considered by smact are meant to be as exhaustive as possible."
   ]
  },
  {
   "cell_type": "code",
   "execution_count": 4,
   "metadata": {
    "slideshow": {
     "slide_type": "subslide"
    }
   },
   "outputs": [
    {
     "name": "stdout",
     "output_type": "stream",
     "text": [
      "The oxidation states that are recognised by the pymatgen structure predictor are [2, 3, 4, 5, 6]\n"
     ]
    }
   ],
   "source": [
    "print(f\"The oxidation states that are recognised by the pymatgen structure predictor are {Fe.oxidation_states_sp}\")"
   ]
  },
  {
   "cell_type": "markdown",
   "metadata": {
    "slideshow": {
     "slide_type": "subslide"
    }
   },
   "source": [
    "We can check other properties of the atom including, but not limited to:\n",
    "* Atomic number\n",
    "* Pauling electronegativitty\n",
    "* Ionisation potential\n",
    "* coordination environments\n",
    "* covalent radius\n",
    "* molar mass\n",
    "* Hirfindahl-Hirschman Index"
   ]
  },
  {
   "cell_type": "code",
   "execution_count": 5,
   "metadata": {
    "slideshow": {
     "slide_type": "subslide"
    }
   },
   "outputs": [
    {
     "name": "stdout",
     "output_type": "stream",
     "text": [
      "The atomic number of Fe is 26.0\n",
      "The pauling electronegativity of Fe is 1.83\n",
      "The Ionisation potential of Fe is 7.9024678\n",
      "The available coordination environments of Fe are ['4_n', '4_sq', '6_n', '8_n', '4_n', '5_n', '6_n', '8_n', '6_n', '4_n']\n",
      "The covalent radius of Fe is 1.32\n",
      "The molar mass of Fe is 55.845\n",
      "The Hirfindahl-Hirschman Index for elemental reserves of Fe is 1400.0\n"
     ]
    }
   ],
   "source": [
    "print(f\"The atomic number of Fe is {Fe.number}\")\n",
    "print(f\"The pauling electronegativity of Fe is {Fe.pauling_eneg}\")\n",
    "print(f\"The Ionisation potential of Fe is {Fe.ionpot}\")\n",
    "print(f\"The available coordination environments of Fe are {Fe.coord_envs}\")\n",
    "print(f\"The covalent radius of Fe is {Fe.covalent_radius}\")\n",
    "print(f\"The molar mass of Fe is {Fe.mass}\")\n",
    "print(f\"The Hirfindahl-Hirschman Index for elemental reserves of Fe is {Fe.HHI_r}\")"
   ]
  },
  {
   "cell_type": "markdown",
   "metadata": {
    "slideshow": {
     "slide_type": "slide"
    }
   },
   "source": [
    "Defining a species in smact requires us to decide on the oxidation state and the coordination environment of the ion.\n",
    "Let's consider Fe<sup>2+</sup> in an octahedral coordination"
   ]
  },
  {
   "cell_type": "code",
   "execution_count": 6,
   "metadata": {
    "slideshow": {
     "slide_type": "subslide"
    }
   },
   "outputs": [],
   "source": [
    "Fe2=smact.Species(\"Fe\", 2, coordination=6)"
   ]
  },
  {
   "cell_type": "markdown",
   "metadata": {
    "slideshow": {
     "slide_type": "subslide"
    }
   },
   "source": [
    "Similar to the Element class, we can access a few properties"
   ]
  },
  {
   "cell_type": "code",
   "execution_count": 7,
   "metadata": {
    "slideshow": {
     "slide_type": "subslide"
    }
   },
   "outputs": [
    {
     "name": "stdout",
     "output_type": "stream",
     "text": [
      "The oxidation state of this species is 2\n",
      "The coordination of this Fe ion is 6\n",
      "The shannon radius of Fe2+ in an octahedral position is 0.84\n"
     ]
    }
   ],
   "source": [
    "print(f\"The oxidation state of this species is {Fe2.oxidation}\")\n",
    "print(f\"The coordination of this Fe ion is {Fe2.coordination}\")\n",
    "print(f\"The shannon radius of Fe2+ in an octahedral position is {Fe2.shannon_radius}\")"
   ]
  },
  {
   "cell_type": "markdown",
   "metadata": {
    "slideshow": {
     "slide_type": "slide"
    }
   },
   "source": [
    "## Generating compositions for a chosen search-space"
   ]
  },
  {
   "cell_type": "markdown",
   "metadata": {
    "slideshow": {
     "slide_type": "subslide"
    }
   },
   "source": [
    "Let's do a short demo of using SMACT to generate a list of elemental compositions which could be used as an input for some screening workflows.\n",
    "\n",
    "In this example, we'll consider lithium oxide garnets - A<sub>3</sub>B<sub>2</sub>Li<sub>3</sub>O<sub>12</sub>"
   ]
  },
  {
   "cell_type": "markdown",
   "metadata": {
    "slideshow": {
     "slide_type": "slide"
    }
   },
   "source": [
    "### List generation"
   ]
  },
  {
   "cell_type": "code",
   "execution_count": 8,
   "metadata": {
    "slideshow": {
     "slide_type": "subslide"
    }
   },
   "outputs": [],
   "source": [
    "#Generate the dictionary of elements\n",
    "#We'll only consider the first 83 elements\n",
    "\n",
    "all_el=element_dictionary(elements=ordered_elements(1,83)) #A dictionary of all element objects\n",
    "symbols_list=list(all_el.keys())\n",
    "all_els=[all_el[symbol] for symbol in symbols_list]\n",
    "\n",
    "#Let's remove the elements we don't want to consider\n",
    "dont_want=[\"He\",\"Ne\",\"Ar\",\"Kr\",\"Xe\",\"Pm\",\"Tc\"]\n",
    "\n",
    "for unwanted in dont_want:\n",
    "    symbols_list.remove(unwanted)\n",
    "all_els=[all_el[symbol] for symbol in symbols_list]\n",
    "coord_els=[el.coord_envs for el in all_els]"
   ]
  },
  {
   "cell_type": "markdown",
   "metadata": {
    "slideshow": {
     "slide_type": "subslide"
    }
   },
   "source": [
    "We'll investigate A-B-Li-O elemental combinations. As some experimental materials do have the same ion occupying different coordination sites in the garnet structure, we'll allow consideration of a composition having less than 4 unique elements."
   ]
  },
  {
   "cell_type": "code",
   "execution_count": 9,
   "metadata": {
    "slideshow": {
     "slide_type": "subslide"
    }
   },
   "outputs": [
    {
     "name": "stdout",
     "output_type": "stream",
     "text": [
      "The number of  allowed elements for (A) are: 45 \n",
      "\n",
      "The number of allowed elements for {B} are:75 \n",
      "\n"
     ]
    }
   ],
   "source": [
    "#Coordination environments to consider\n",
    "\n",
    "#A requires elements which can take a coordination state of 8\n",
    "#B requires elements which can take a coordination state of 6\n",
    "A_els=[]\n",
    "B_els=[]\n",
    "\n",
    "for el in all_els:\n",
    "    if el.coord_envs==None:\n",
    "        continue\n",
    "    CNs=[i.split(\"_\")[0] for i in el.coord_envs]\n",
    "    if \"8\" in CNs:\n",
    "        A_els.append(el)\n",
    "    if \"6\" in CNs:\n",
    "        B_els.append(el)\n",
    "\n",
    "# Elements for C and D\n",
    "C_list=[\"Li\"]\n",
    "D_list = [\"O\"]\n",
    "C_els=[all_el[symbol] for symbol in C_list]\n",
    "D_els=[all_el[symbol] for symbol in D_list]\n",
    "\n",
    "print(f\"The number of  allowed elements for (A) are: {len(A_els)} \\n\" )\n",
    "print(\"The number of allowed elements for {B} are:\" f\"{len(B_els)} \\n\" )\n",
    "        "
   ]
  },
  {
   "cell_type": "code",
   "execution_count": 10,
   "metadata": {
    "slideshow": {
     "slide_type": "subslide"
    }
   },
   "outputs": [
    {
     "name": "stdout",
     "output_type": "stream",
     "text": [
      "We have generated 3375 potential compounds\n"
     ]
    }
   ],
   "source": [
    "#Generate the A-B-C-D combinations\n",
    "\n",
    "ABCD_pairs = [(x,y,z,a) for x in A_els for y in B_els for z in C_els for a in D_els]\n",
    "\n",
    "# Prove to ourselves that we have all unique chemical systems\n",
    "print(f\"We have generated {len(ABCD_pairs)} potential compounds\")\n",
    "\n",
    "#for i in oxide_systems:\n",
    " #   print(f\"{i[0].symbol} {i[1].symbol} {i[2].symbol} {i[3].symbol}\")"
   ]
  },
  {
   "cell_type": "code",
   "execution_count": 11,
   "metadata": {
    "slideshow": {
     "slide_type": "slide"
    }
   },
   "outputs": [],
   "source": [
    "def smact_filter(els, stoichs=[[3],[2],[3], [12]], species_unique=True):\n",
    "\n",
    "    compositions = []\n",
    "\n",
    "    # Get symbols and electronegativities\n",
    "    symbols = tuple(e.symbol for e in els)\n",
    "    electronegs = [e.pauling_eneg for e in els]\n",
    "    ox_combos = [e.oxidation_states for e in els]\n",
    "    for ox_states in itertools.product(*ox_combos):\n",
    "        # Test for charge balance\n",
    "        cn_e, cn_r = neutral_ratios(ox_states, stoichs=stoichs)\n",
    "        # Electronegativity test\n",
    "        if cn_e:\n",
    "            electroneg_OK = pauling_test(ox_states, electronegs)\n",
    "            if electroneg_OK:\n",
    "                for ratio in cn_r:\n",
    "                    compositions.append(tuple([symbols,ox_states,ratio]))\n",
    "\n",
    "    # Return list depending on whether we are interested in unique species combinations\n",
    "    # or just unique element combinations.\n",
    "    if species_unique:\n",
    "        return(compositions)\n",
    "    else:\n",
    "        compositions = [(i[0], i[2]) for i in compositions]\n",
    "        compositions = list(set(compositions))\n",
    "        return compositions"
   ]
  },
  {
   "cell_type": "code",
   "execution_count": 12,
   "metadata": {
    "slideshow": {
     "slide_type": "subslide"
    }
   },
   "outputs": [
    {
     "name": "stdout",
     "output_type": "stream",
     "text": [
      "Time taken to generate list:  0:00:00.128866\n"
     ]
    }
   ],
   "source": [
    "# Use multiprocessing and smact_filter to quickly generate our list of compositions\n",
    "start = datetime.now()\n",
    "if __name__ == '__main__':   # Always use pool protected in an if statement \n",
    "    with multiprocessing.Pool(processes=4) as p:    # start 4 worker processes\n",
    "        result = p.map(smact_filter, ABCD_pairs)\n",
    "print('Time taken to generate list:  {0}'.format(datetime.now()-start))"
   ]
  },
  {
   "cell_type": "code",
   "execution_count": 13,
   "metadata": {
    "slideshow": {
     "slide_type": "subslide"
    }
   },
   "outputs": [
    {
     "name": "stdout",
     "output_type": "stream",
     "text": [
      "Number of compositions: --> 2512 <--\n",
      "Each list entry looks like this:\n",
      "  elements, oxidation states, stoichiometries\n",
      "(('Li', 'B', 'Li', 'O'), (1, 3, 1, -1), (3, 2, 3, 12))\n",
      "(('Li', 'C', 'Li', 'O'), (1, 3, 1, -1), (3, 2, 3, 12))\n",
      "(('Li', 'N', 'Li', 'O'), (1, 3, 1, -1), (3, 2, 3, 12))\n",
      "(('Li', 'Al', 'Li', 'O'), (1, 3, 1, -1), (3, 2, 3, 12))\n",
      "(('Li', 'Si', 'Li', 'O'), (1, 3, 1, -1), (3, 2, 3, 12))\n"
     ]
    }
   ],
   "source": [
    "# Flatten the list of lists\n",
    "flat_list = [item for sublist in result for item in sublist]\n",
    "print('Number of compositions: --> {0} <--'.format(len(flat_list)))\n",
    "print('Each list entry looks like this:\\n  elements, oxidation states, stoichiometries')\n",
    "for i in flat_list[:5]:\n",
    "    print(i)"
   ]
  },
  {
   "cell_type": "markdown",
   "metadata": {
    "slideshow": {
     "slide_type": "slide"
    }
   },
   "source": [
    "### Pymatgen reduced formulas"
   ]
  },
  {
   "cell_type": "code",
   "execution_count": 14,
   "metadata": {
    "slideshow": {
     "slide_type": "subslide"
    }
   },
   "outputs": [
    {
     "name": "stdout",
     "output_type": "stream",
     "text": [
      "Each list entry now looks like this: \n",
      "Li3BO6\n",
      "Li3CO6\n",
      "Li3NO6\n",
      "Li3AlO6\n",
      "Li3SiO6\n"
     ]
    }
   ],
   "source": [
    "from pymatgen.core import Composition\n",
    "def comp_maker(comp):\n",
    "    form = []\n",
    "    for el, ammt in zip(comp[0], comp[2]):\n",
    "        form.append(el)\n",
    "        form.append(ammt)\n",
    "    form = ''.join(str(e) for e in form)\n",
    "    pmg_form = Composition(form).reduced_formula\n",
    "    return pmg_form\n",
    "\n",
    "if __name__ == '__main__':  \n",
    "    with multiprocessing.Pool(processes=4) as p:\n",
    "        pretty_formulas = p.map(comp_maker, flat_list)\n",
    "\n",
    "print('Each list entry now looks like this: ')\n",
    "for i in pretty_formulas[:5]:\n",
    "    print(i)"
   ]
  },
  {
   "cell_type": "code",
   "execution_count": 15,
   "metadata": {
    "slideshow": {
     "slide_type": "subslide"
    }
   },
   "outputs": [
    {
     "name": "stdout",
     "output_type": "stream",
     "text": [
      "Time taken to calculate sus factors:  0:00:01.844193\n"
     ]
    }
   ],
   "source": [
    "#Calculate sustainability\n",
    "def sus_calc(comp):\n",
    "    sus_factor = 0\n",
    "    for i in Composition(comp).elements:\n",
    "        sus_factor += (Composition(comp).get_wt_fraction(i) *smact.Element(i.symbol).HHI_r)\n",
    "    return sus_factor\n",
    "\n",
    "#Compute sustainability\n",
    "start = datetime.now()\n",
    "if __name__ == '__main__':  \n",
    "    with multiprocessing.Pool(processes=4) as p:\n",
    "        sus_factors = p.map(sus_calc, pretty_formulas)\n",
    "#sus_factors=[sus_calc(Composition(i)) for i in pretty_formulas]\n",
    "print(f'Time taken to calculate sus factors:  {datetime.now()-start}')\n",
    "\n"
   ]
  },
  {
   "cell_type": "code",
   "execution_count": 16,
   "metadata": {
    "slideshow": {
     "slide_type": "subslide"
    }
   },
   "outputs": [],
   "source": [
    "#We want to be able to feed in a list of species into a structure predictor\n",
    "#Need to our list in the form of [(A,x), (B,y), (C,z)]\n",
    "#Where A,B,C are species, dtype-string\n",
    "#x,y,z are the charges/oxidation state - dtype: int\n",
    "from smact.structure_prediction.utilities import parse_spec, unparse_spec\n",
    "species=[]\n",
    "A=[]\n",
    "B=[]\n",
    "C=[]\n",
    "D=[]\n",
    "for i in range(len(flat_list)):\n",
    "    species.append(pretty_formulas[i])\n",
    "    A.append((unparse_spec((flat_list[i][0][0],flat_list[i][1][0]))))\n",
    "    B.append((unparse_spec((flat_list[i][0][1],flat_list[i][1][1]))))\n",
    "    C.append((unparse_spec((flat_list[i][0][2],flat_list[i][1][2]))))\n",
    "    D.append((unparse_spec((flat_list[i][0][3],flat_list[i][1][3]))))\n"
   ]
  },
  {
   "cell_type": "code",
   "execution_count": 17,
   "metadata": {
    "slideshow": {
     "slide_type": "subslide"
    }
   },
   "outputs": [
    {
     "data": {
      "text/html": [
       "<div>\n",
       "<style scoped>\n",
       "    .dataframe tbody tr th:only-of-type {\n",
       "        vertical-align: middle;\n",
       "    }\n",
       "\n",
       "    .dataframe tbody tr th {\n",
       "        vertical-align: top;\n",
       "    }\n",
       "\n",
       "    .dataframe thead th {\n",
       "        text-align: right;\n",
       "    }\n",
       "</style>\n",
       "<table border=\"1\" class=\"dataframe\">\n",
       "  <thead>\n",
       "    <tr style=\"text-align: right;\">\n",
       "      <th></th>\n",
       "      <th>Pretty Formula</th>\n",
       "      <th>A</th>\n",
       "      <th>B</th>\n",
       "      <th>C</th>\n",
       "      <th>D</th>\n",
       "      <th>sus_factor</th>\n",
       "    </tr>\n",
       "  </thead>\n",
       "  <tbody>\n",
       "    <tr>\n",
       "      <th>0</th>\n",
       "      <td>Li3Mg3(NO6)2</td>\n",
       "      <td>Mg1+</td>\n",
       "      <td>N3+</td>\n",
       "      <td>Li1+</td>\n",
       "      <td>O1-</td>\n",
       "      <td>745.566611</td>\n",
       "    </tr>\n",
       "    <tr>\n",
       "      <th>1</th>\n",
       "      <td>Na3Li3(NO6)2</td>\n",
       "      <td>Na1+</td>\n",
       "      <td>N3+</td>\n",
       "      <td>Li1+</td>\n",
       "      <td>O1-</td>\n",
       "      <td>748.694226</td>\n",
       "    </tr>\n",
       "    <tr>\n",
       "      <th>2</th>\n",
       "      <td>Li3Mg3(CO6)2</td>\n",
       "      <td>Mg1+</td>\n",
       "      <td>C3+</td>\n",
       "      <td>Li1+</td>\n",
       "      <td>O1-</td>\n",
       "      <td>748.731405</td>\n",
       "    </tr>\n",
       "    <tr>\n",
       "      <th>3</th>\n",
       "      <td>Na3Li3(CO6)2</td>\n",
       "      <td>Na1+</td>\n",
       "      <td>C3+</td>\n",
       "      <td>Li1+</td>\n",
       "      <td>O1-</td>\n",
       "      <td>751.940682</td>\n",
       "    </tr>\n",
       "    <tr>\n",
       "      <th>4</th>\n",
       "      <td>Li3Mg3Al2O12</td>\n",
       "      <td>Mg1+</td>\n",
       "      <td>Al3+</td>\n",
       "      <td>Li1+</td>\n",
       "      <td>O1-</td>\n",
       "      <td>806.236425</td>\n",
       "    </tr>\n",
       "  </tbody>\n",
       "</table>\n",
       "</div>"
      ],
      "text/plain": [
       "  Pretty Formula     A     B     C    D  sus_factor\n",
       "0   Li3Mg3(NO6)2  Mg1+   N3+  Li1+  O1-  745.566611\n",
       "1   Na3Li3(NO6)2  Na1+   N3+  Li1+  O1-  748.694226\n",
       "2   Li3Mg3(CO6)2  Mg1+   C3+  Li1+  O1-  748.731405\n",
       "3   Na3Li3(CO6)2  Na1+   C3+  Li1+  O1-  751.940682\n",
       "4   Li3Mg3Al2O12  Mg1+  Al3+  Li1+  O1-  806.236425"
      ]
     },
     "execution_count": 17,
     "metadata": {},
     "output_type": "execute_result"
    }
   ],
   "source": [
    "columns=[\"Pretty Formula\",\"A\",\"B\",\"C\",\"D\"]\n",
    "df_list=[[species[i], A[i], B[i], C[i], D[i]] for i in range(len(species))]\n",
    "df=pd.DataFrame(data=df_list, columns=columns)\n",
    "df[\"sus_factor\"]=sus_factors\n",
    "df=df.sort_values(by='sus_factor', ascending=True)\n",
    "df=df.reset_index(drop=True)\n",
    "\n",
    "df.head()\n"
   ]
  },
  {
   "cell_type": "markdown",
   "metadata": {
    "slideshow": {
     "slide_type": "slide"
    }
   },
   "source": [
    "### Tolerance factor calculation"
   ]
  },
  {
   "cell_type": "code",
   "execution_count": 18,
   "metadata": {
    "slideshow": {
     "slide_type": "subslide"
    }
   },
   "outputs": [],
   "source": [
    "def tol_factor_calc (A, B,C, D):\n",
    "    \"\"\"Function calculates the tolerance factor for a garnet compound\n",
    "    \n",
    "    Args:\n",
    "        A (Species): Ion with coordination = 8\n",
    "        B (Species): Ion with coordination = 6\n",
    "        C (Species): Ion with coordination = 4\n",
    "        D (Species): Ion with coordination = 4\n",
    "        \n",
    "    Returns:\n",
    "        tol_factor (float): The tolerance factor\"\"\"\n",
    "    \n",
    "    #Create a check to see if the species exists\n",
    "    if any([A.shannon_radius==None,B.shannon_radius==None, C.shannon_radius==None, D.shannon_radius==None]):\n",
    "        #If check passed, calculate the tolerance factor\n",
    "        tau=0\n",
    "    else:\n",
    "        arg=(B.shannon_radius +D.shannon_radius)**2 - (4/9)*(A.shannon_radius + D.shannon_radius)**2\n",
    "        if arg<0:\n",
    "            tau=0\n",
    "        else:\n",
    "            tau=3*(arg**0.5)/(2*(C.shannon_radius + D.shannon_radius))\n",
    "\n",
    "    #Create a list of symbols, oxidation states and tolerance factor\n",
    "    return tau"
   ]
  },
  {
   "cell_type": "code",
   "execution_count": 19,
   "metadata": {
    "slideshow": {
     "slide_type": "subslide"
    }
   },
   "outputs": [],
   "source": [
    "row_list=[]\n",
    "#iterate over row\n",
    "for index, rows in df.iterrows():\n",
    "    #Species conversion\n",
    "    s1, n1 = parse_spec(rows.A)[0], parse_spec(rows.A)[1]\n",
    "    s2, n2 = parse_spec(rows.B)[0], parse_spec(rows.B)[1]\n",
    "    s3, n3 = parse_spec(rows.C)[0], parse_spec(rows.C)[1]\n",
    "    s4, n4 = parse_spec(rows.D)[0], parse_spec(rows.D)[1]\n",
    "    \n",
    "    A=Species(s1,n1, coordination=8)\n",
    "    B=Species(s2,n2, coordination=6)\n",
    "    C=Species(s3,n3, coordination=4)\n",
    "    D=Species(s4,n4, coordination=4)\n",
    "    \n",
    "    #Create list for the current row\n",
    "    \n",
    "    my_list=[rows[\"Pretty Formula\"], rows.A, rows.B, rows.C, rows.D, tol_factor_calc(A,B,C,D)]\n",
    "    \n",
    "    #append to the list\n",
    "    row_list.append(my_list)"
   ]
  },
  {
   "cell_type": "code",
   "execution_count": 23,
   "metadata": {
    "slideshow": {
     "slide_type": "subslide"
    }
   },
   "outputs": [
    {
     "data": {
      "text/plain": [
       "[['Li3Fe3(SO6)2', 'Fe3+', 'S6+', 'Li1+', 'O2-', 0.6439752040959554],\n",
       " ['Li3Fe3(SeO6)2', 'Fe3+', 'Se6+', 'Li1+', 'O2-', 0.8223350253807107],\n",
       " ['Li3In3(SO6)2', 'In3+', 'S6+', 'Li1+', 'O2-', 0.5037991151279656],\n",
       " ['Li3Cr3(AuO6)2', 'Cr5+', 'Au3+', 'Li1+', 'O2-', 1.379602141600136],\n",
       " ['Li3In3(SeO6)2', 'In3+', 'Se6+', 'Li1+', 'O2-', 0.7178749047579167]]"
      ]
     },
     "execution_count": 23,
     "metadata": {},
     "output_type": "execute_result"
    }
   ],
   "source": [
    "garnet_tol_list=[]\n",
    "for i in row_list:\n",
    "    if i[5]!=0:\n",
    "        garnet_tol_list.append(i)\n",
    "garnet_tol_list[:5]\n"
   ]
  },
  {
   "cell_type": "code",
   "execution_count": 21,
   "metadata": {
    "slideshow": {
     "slide_type": "subslide"
    }
   },
   "outputs": [
    {
     "name": "stdout",
     "output_type": "stream",
     "text": [
      "By considering the coordination states, we have reduced our search space from 2512 to 282\n"
     ]
    }
   ],
   "source": [
    "print(f\"By considering the coordination states, we have reduced our search space from {len(row_list)} to {len(garnet_tol_list)}\")"
   ]
  },
  {
   "cell_type": "code",
   "execution_count": 25,
   "metadata": {
    "slideshow": {
     "slide_type": "subslide"
    }
   },
   "outputs": [
    {
     "data": {
      "text/plain": [
       "[['Li3Fe3(SeO6)2', 'Fe3+', 'Se6+', 'Li1+', 'O2-', 0.8223350253807107],\n",
       " ['Li3Cr2(FeO4)3', 'Fe3+', 'Cr6+', 'Li1+', 'O2-', 0.8474725326686208],\n",
       " ['Li3Cr3(AgO6)2', 'Cr5+', 'Ag3+', 'Li1+', 'O2-', 1.2847278510511317],\n",
       " ['Li3Cr3(FeO6)2', 'Cr5+', 'Fe3+', 'Li1+', 'O2-', 1.137146479345856],\n",
       " ['Li3Cr3(CuO6)2', 'Cr5+', 'Cu3+', 'Li1+', 'O2-', 1.0758427895135063]]"
      ]
     },
     "execution_count": 25,
     "metadata": {},
     "output_type": "execute_result"
    }
   ],
   "source": [
    "filtered_tol_list=[]\n",
    "\n",
    "for i in garnet_tol_list:\n",
    "    if i[5]<=1.333 and i[5]>=0.748:\n",
    "        filtered_tol_list.append(i)\n",
    "filtered_tol_list[:5]\n",
    "        "
   ]
  },
  {
   "cell_type": "code",
   "execution_count": 26,
   "metadata": {
    "slideshow": {
     "slide_type": "subslide"
    }
   },
   "outputs": [
    {
     "name": "stdout",
     "output_type": "stream",
     "text": [
      "By considering the the stability range for the tolerance factor, we have reduced our search space from 282 to 165\n"
     ]
    }
   ],
   "source": [
    "print(f\"By considering the the stability range for the tolerance factor, we have reduced our search space from {len(garnet_tol_list)} to {len(filtered_tol_list)}\")"
   ]
  },
  {
   "cell_type": "markdown",
   "metadata": {
    "slideshow": {
     "slide_type": "slide"
    }
   },
   "source": [
    "# Structure Prediction\n",
    "The previous example of using a tolerance factor to estimate the search space for a particular crystal structure system. \n",
    "What if we wanted perform this task in absence of a tolerance factor?"
   ]
  },
  {
   "cell_type": "markdown",
   "metadata": {
    "slideshow": {
     "slide_type": "subslide"
    }
   },
   "source": [
    "The structure prediction module contains the following submodules\n",
    "* Prediction\n",
    "* Database\n",
    "* Mutation\n",
    "* Structure\n",
    "* Substitution Probability models\n",
    "* Utilities"
   ]
  },
  {
   "cell_type": "markdown",
   "metadata": {
    "slideshow": {
     "slide_type": "slide"
    }
   },
   "source": [
    "Estimating the Li7 garnet search space"
   ]
  },
  {
   "cell_type": "markdown",
   "metadata": {
    "slideshow": {
     "slide_type": "skip"
    }
   },
   "source": [
    "## Interfacing\n",
    "\n",
    "Let's consider a desire to want to featurise the data for a machine learning algorithm, for example in scikit-learn."
   ]
  },
  {
   "cell_type": "code",
   "execution_count": 22,
   "metadata": {
    "slideshow": {
     "slide_type": "skip"
    }
   },
   "outputs": [
    {
     "ename": "NameError",
     "evalue": "name 'unique_pretty_formulas' is not defined",
     "output_type": "error",
     "traceback": [
      "\u001b[0;31m---------------------------------------------------------------------------\u001b[0m",
      "\u001b[0;31mNameError\u001b[0m                                 Traceback (most recent call last)",
      "\u001b[0;32m<ipython-input-22-0b2fb4cfcbbc>\u001b[0m in \u001b[0;36m<module>\u001b[0;34m\u001b[0m\n\u001b[0;32m----> 1\u001b[0;31m \u001b[0mnew_data\u001b[0m \u001b[0;34m=\u001b[0m \u001b[0mpd\u001b[0m\u001b[0;34m.\u001b[0m\u001b[0mDataFrame\u001b[0m\u001b[0;34m(\u001b[0m\u001b[0munique_pretty_formulas\u001b[0m\u001b[0;34m)\u001b[0m\u001b[0;34m.\u001b[0m\u001b[0mrename\u001b[0m\u001b[0;34m(\u001b[0m\u001b[0mcolumns\u001b[0m\u001b[0;34m=\u001b[0m\u001b[0;34m{\u001b[0m\u001b[0;36m0\u001b[0m\u001b[0;34m:\u001b[0m \u001b[0;34m'pretty_formula'\u001b[0m\u001b[0;34m}\u001b[0m\u001b[0;34m)\u001b[0m\u001b[0;34m\u001b[0m\u001b[0;34m\u001b[0m\u001b[0m\n\u001b[0m\u001b[1;32m      2\u001b[0m \u001b[0mnew_data\u001b[0m \u001b[0;34m=\u001b[0m \u001b[0mnew_data\u001b[0m\u001b[0;34m.\u001b[0m\u001b[0mdrop_duplicates\u001b[0m\u001b[0;34m(\u001b[0m\u001b[0msubset\u001b[0m \u001b[0;34m=\u001b[0m \u001b[0;34m'pretty_formula'\u001b[0m\u001b[0;34m)\u001b[0m\u001b[0;34m\u001b[0m\u001b[0;34m\u001b[0m\u001b[0m\n\u001b[1;32m      3\u001b[0m \u001b[0mnew_data\u001b[0m\u001b[0;34m[\u001b[0m\u001b[0;34m\"sus_factor\"\u001b[0m\u001b[0;34m]\u001b[0m \u001b[0;34m=\u001b[0m \u001b[0msus_factors\u001b[0m\u001b[0;34m\u001b[0m\u001b[0;34m\u001b[0m\u001b[0m\n\u001b[1;32m      4\u001b[0m \u001b[0mnew_data\u001b[0m\u001b[0;34m.\u001b[0m\u001b[0mhead\u001b[0m\u001b[0;34m(\u001b[0m\u001b[0;34m)\u001b[0m\u001b[0;34m\u001b[0m\u001b[0;34m\u001b[0m\u001b[0m\n",
      "\u001b[0;31mNameError\u001b[0m: name 'unique_pretty_formulas' is not defined"
     ]
    }
   ],
   "source": [
    "new_data = pd.DataFrame(unique_pretty_formulas).rename(columns={0: 'pretty_formula'})\n",
    "new_data = new_data.drop_duplicates(subset = 'pretty_formula')\n",
    "new_data[\"sus_factor\"] = sus_factors\n",
    "new_data.head()"
   ]
  },
  {
   "cell_type": "markdown",
   "metadata": {
    "slideshow": {
     "slide_type": "skip"
    }
   },
   "source": [
    "### Sort by sustainability"
   ]
  },
  {
   "cell_type": "code",
   "execution_count": null,
   "metadata": {
    "slideshow": {
     "slide_type": "skip"
    }
   },
   "outputs": [],
   "source": [
    "new_data=new_data.sort_values(by='sus_factor', ascending=True)\n",
    "new_data=new_data.reset_index(drop=True)\n",
    "new_data.head()"
   ]
  },
  {
   "cell_type": "code",
   "execution_count": null,
   "metadata": {
    "slideshow": {
     "slide_type": "skip"
    }
   },
   "outputs": [],
   "source": [
    "# Use magpie set from matminer plus a couple of others\n",
    "str_to_comp = StrToComposition(target_col_id='composition_obj')\n",
    "str_to_comp.featurize_dataframe(new_data, col_id='pretty_formula')\n",
    "\n",
    "feature_calculators = MultipleFeaturizer([cf.Stoichiometry(), \n",
    "                                          cf.ElementProperty.from_preset(\"magpie\"),\n",
    "                                          cf.ValenceOrbital(props=['avg']), \n",
    "                                          cf.IonProperty(fast=True),\n",
    "                                          cf.BandCenter(), cf.AtomicOrbitals()])\n",
    "\n",
    "feature_labels = feature_calculators.feature_labels()\n",
    "feature_calculators.featurize_dataframe(new_data, col_id='composition_obj');"
   ]
  },
  {
   "cell_type": "code",
   "execution_count": null,
   "metadata": {
    "slideshow": {
     "slide_type": "skip"
    }
   },
   "outputs": [],
   "source": [
    "new_data.head()"
   ]
  },
  {
   "cell_type": "code",
   "execution_count": null,
   "metadata": {
    "slideshow": {
     "slide_type": "skip"
    }
   },
   "outputs": [],
   "source": [
    "# Save as .csv file \n",
    "new_data.to_csv('dataframe_featurized.csv')"
   ]
  },
  {
   "cell_type": "code",
   "execution_count": null,
   "metadata": {
    "slideshow": {
     "slide_type": "skip"
    }
   },
   "outputs": [],
   "source": []
  }
 ],
 "metadata": {
  "celltoolbar": "Slideshow",
  "kernelspec": {
   "display_name": "Python 3",
   "language": "python",
   "name": "python3"
  },
  "language_info": {
   "codemirror_mode": {
    "name": "ipython",
    "version": 3
   },
   "file_extension": ".py",
   "mimetype": "text/x-python",
   "name": "python",
   "nbconvert_exporter": "python",
   "pygments_lexer": "ipython3",
   "version": "3.8.10"
  }
 },
 "nbformat": 4,
 "nbformat_minor": 4
}
